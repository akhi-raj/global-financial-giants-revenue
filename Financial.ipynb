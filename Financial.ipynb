{
 "cells": [
  {
   "cell_type": "code",
   "execution_count": 1,
   "id": "03cc3544-c6ab-4027-8b8d-62129e55d816",
   "metadata": {},
   "outputs": [],
   "source": [
    "import pandas as pd"
   ]
  },
  {
   "cell_type": "code",
   "execution_count": 2,
   "id": "aa077cbf-2a5f-4aba-a494-160b265a198e",
   "metadata": {},
   "outputs": [],
   "source": [
    "df = pd.read_csv(r\"C:\\Users\\Admin\\Downloads\\h\\A-M-S\\global financcial giants\\largest financial services companies by revenue.csv\")"
   ]
  },
  {
   "cell_type": "markdown",
   "id": "1c0cf0b9-8eae-4c6b-8083-e99952d36880",
   "metadata": {},
   "source": [
    "# Display the first 5 rows dataset"
   ]
  },
  {
   "cell_type": "code",
   "execution_count": 3,
   "id": "9d13a1d2-95bd-4eb6-980d-324db147a0b0",
   "metadata": {},
   "outputs": [
    {
     "data": {
      "text/html": [
       "<div>\n",
       "<style scoped>\n",
       "    .dataframe tbody tr th:only-of-type {\n",
       "        vertical-align: middle;\n",
       "    }\n",
       "\n",
       "    .dataframe tbody tr th {\n",
       "        vertical-align: top;\n",
       "    }\n",
       "\n",
       "    .dataframe thead th {\n",
       "        text-align: right;\n",
       "    }\n",
       "</style>\n",
       "<table border=\"1\" class=\"dataframe\">\n",
       "  <thead>\n",
       "    <tr style=\"text-align: right;\">\n",
       "      <th></th>\n",
       "      <th>Rank</th>\n",
       "      <th>Company</th>\n",
       "      <th>Industry</th>\n",
       "      <th>Revenue in (USD Million)</th>\n",
       "      <th>Net Income in (USD Millions)</th>\n",
       "      <th>Total Assest in (USD Millions)</th>\n",
       "      <th>Headquarters</th>\n",
       "    </tr>\n",
       "  </thead>\n",
       "  <tbody>\n",
       "    <tr>\n",
       "      <th>0</th>\n",
       "      <td>1</td>\n",
       "      <td>Transamerica Corporation</td>\n",
       "      <td>Conglomerate</td>\n",
       "      <td>245510</td>\n",
       "      <td>42521</td>\n",
       "      <td>873</td>\n",
       "      <td>United States</td>\n",
       "    </tr>\n",
       "    <tr>\n",
       "      <th>1</th>\n",
       "      <td>2</td>\n",
       "      <td>Ping An Insurance Group</td>\n",
       "      <td>Insurance</td>\n",
       "      <td>191509</td>\n",
       "      <td>20738</td>\n",
       "      <td>1460</td>\n",
       "      <td>China</td>\n",
       "    </tr>\n",
       "    <tr>\n",
       "      <th>2</th>\n",
       "      <td>3</td>\n",
       "      <td>ICBC</td>\n",
       "      <td>Banking</td>\n",
       "      <td>182794</td>\n",
       "      <td>45783</td>\n",
       "      <td>5110</td>\n",
       "      <td>China</td>\n",
       "    </tr>\n",
       "    <tr>\n",
       "      <th>3</th>\n",
       "      <td>4</td>\n",
       "      <td>China Construction Bank</td>\n",
       "      <td>Banking</td>\n",
       "      <td>172000</td>\n",
       "      <td>39282</td>\n",
       "      <td>4311</td>\n",
       "      <td>China</td>\n",
       "    </tr>\n",
       "    <tr>\n",
       "      <th>4</th>\n",
       "      <td>5</td>\n",
       "      <td>Agricultural Bank of China</td>\n",
       "      <td>Banking</td>\n",
       "      <td>153884</td>\n",
       "      <td>31293</td>\n",
       "      <td>4169</td>\n",
       "      <td>China</td>\n",
       "    </tr>\n",
       "  </tbody>\n",
       "</table>\n",
       "</div>"
      ],
      "text/plain": [
       "   Rank                     Company      Industry  Revenue in (USD Million)  \\\n",
       "0     1    Transamerica Corporation  Conglomerate                    245510   \n",
       "1     2     Ping An Insurance Group     Insurance                    191509   \n",
       "2     3                        ICBC       Banking                    182794   \n",
       "3     4     China Construction Bank       Banking                    172000   \n",
       "4     5  Agricultural Bank of China       Banking                    153884   \n",
       "\n",
       "   Net Income in (USD Millions)  Total Assest in (USD Millions)   Headquarters  \n",
       "0                         42521                             873  United States  \n",
       "1                         20738                            1460          China  \n",
       "2                         45783                            5110          China  \n",
       "3                         39282                            4311          China  \n",
       "4                         31293                            4169          China  "
      ]
     },
     "execution_count": 3,
     "metadata": {},
     "output_type": "execute_result"
    }
   ],
   "source": [
    "df.head()"
   ]
  },
  {
   "cell_type": "markdown",
   "id": "cebb90f5-0fb1-4f77-bc74-78098af26924",
   "metadata": {},
   "source": [
    "# Info"
   ]
  },
  {
   "cell_type": "code",
   "execution_count": 4,
   "id": "fdc18bb1-11a3-4371-a9e3-7248b54fa77d",
   "metadata": {},
   "outputs": [
    {
     "name": "stdout",
     "output_type": "stream",
     "text": [
      "<class 'pandas.core.frame.DataFrame'>\n",
      "RangeIndex: 50 entries, 0 to 49\n",
      "Data columns (total 7 columns):\n",
      " #   Column                          Non-Null Count  Dtype \n",
      "---  ------                          --------------  ----- \n",
      " 0   Rank                            50 non-null     int64 \n",
      " 1   Company                         50 non-null     object\n",
      " 2   Industry                        50 non-null     object\n",
      " 3   Revenue in (USD Million)        50 non-null     int64 \n",
      " 4   Net Income in (USD Millions)    50 non-null     int64 \n",
      " 5   Total Assest in (USD Millions)  50 non-null     int64 \n",
      " 6   Headquarters                    50 non-null     object\n",
      "dtypes: int64(4), object(3)\n",
      "memory usage: 2.9+ KB\n"
     ]
    }
   ],
   "source": [
    "df.info()"
   ]
  },
  {
   "cell_type": "markdown",
   "id": "961daa8c-7604-4977-8984-ba6db26d4082",
   "metadata": {},
   "source": [
    "# Summary Statistics"
   ]
  },
  {
   "cell_type": "code",
   "execution_count": 5,
   "id": "ff2ee54c-23bf-46fa-a46a-ff1f2211cb80",
   "metadata": {},
   "outputs": [
    {
     "data": {
      "text/html": [
       "<div>\n",
       "<style scoped>\n",
       "    .dataframe tbody tr th:only-of-type {\n",
       "        vertical-align: middle;\n",
       "    }\n",
       "\n",
       "    .dataframe tbody tr th {\n",
       "        vertical-align: top;\n",
       "    }\n",
       "\n",
       "    .dataframe thead th {\n",
       "        text-align: right;\n",
       "    }\n",
       "</style>\n",
       "<table border=\"1\" class=\"dataframe\">\n",
       "  <thead>\n",
       "    <tr style=\"text-align: right;\">\n",
       "      <th></th>\n",
       "      <th>Rank</th>\n",
       "      <th>Revenue in (USD Million)</th>\n",
       "      <th>Net Income in (USD Millions)</th>\n",
       "      <th>Total Assest in (USD Millions)</th>\n",
       "    </tr>\n",
       "  </thead>\n",
       "  <tbody>\n",
       "    <tr>\n",
       "      <th>count</th>\n",
       "      <td>50.00000</td>\n",
       "      <td>50.000000</td>\n",
       "      <td>50.000000</td>\n",
       "      <td>50.00000</td>\n",
       "    </tr>\n",
       "    <tr>\n",
       "      <th>mean</th>\n",
       "      <td>25.50000</td>\n",
       "      <td>85435.120000</td>\n",
       "      <td>9369.320000</td>\n",
       "      <td>1480.46000</td>\n",
       "    </tr>\n",
       "    <tr>\n",
       "      <th>std</th>\n",
       "      <td>14.57738</td>\n",
       "      <td>44689.154251</td>\n",
       "      <td>11101.187832</td>\n",
       "      <td>1282.83769</td>\n",
       "    </tr>\n",
       "    <tr>\n",
       "      <th>min</th>\n",
       "      <td>1.00000</td>\n",
       "      <td>14592.000000</td>\n",
       "      <td>169.000000</td>\n",
       "      <td>13.00000</td>\n",
       "    </tr>\n",
       "    <tr>\n",
       "      <th>25%</th>\n",
       "      <td>13.25000</td>\n",
       "      <td>56189.250000</td>\n",
       "      <td>3030.250000</td>\n",
       "      <td>588.00000</td>\n",
       "    </tr>\n",
       "    <tr>\n",
       "      <th>50%</th>\n",
       "      <td>25.50000</td>\n",
       "      <td>70736.000000</td>\n",
       "      <td>4963.000000</td>\n",
       "      <td>1024.50000</td>\n",
       "    </tr>\n",
       "    <tr>\n",
       "      <th>75%</th>\n",
       "      <td>37.75000</td>\n",
       "      <td>96284.250000</td>\n",
       "      <td>10660.750000</td>\n",
       "      <td>2183.75000</td>\n",
       "    </tr>\n",
       "    <tr>\n",
       "      <th>max</th>\n",
       "      <td>50.00000</td>\n",
       "      <td>245510.000000</td>\n",
       "      <td>45783.000000</td>\n",
       "      <td>5110.00000</td>\n",
       "    </tr>\n",
       "  </tbody>\n",
       "</table>\n",
       "</div>"
      ],
      "text/plain": [
       "           Rank  Revenue in (USD Million)  Net Income in (USD Millions)  \\\n",
       "count  50.00000                 50.000000                     50.000000   \n",
       "mean   25.50000              85435.120000                   9369.320000   \n",
       "std    14.57738              44689.154251                  11101.187832   \n",
       "min     1.00000              14592.000000                    169.000000   \n",
       "25%    13.25000              56189.250000                   3030.250000   \n",
       "50%    25.50000              70736.000000                   4963.000000   \n",
       "75%    37.75000              96284.250000                  10660.750000   \n",
       "max    50.00000             245510.000000                  45783.000000   \n",
       "\n",
       "       Total Assest in (USD Millions)  \n",
       "count                        50.00000  \n",
       "mean                       1480.46000  \n",
       "std                        1282.83769  \n",
       "min                          13.00000  \n",
       "25%                         588.00000  \n",
       "50%                        1024.50000  \n",
       "75%                        2183.75000  \n",
       "max                        5110.00000  "
      ]
     },
     "execution_count": 5,
     "metadata": {},
     "output_type": "execute_result"
    }
   ],
   "source": [
    "df.describe()"
   ]
  },
  {
   "cell_type": "markdown",
   "id": "78340183-6351-4064-8b35-a6088d5a4749",
   "metadata": {},
   "source": [
    "# Checking null values"
   ]
  },
  {
   "cell_type": "code",
   "execution_count": 6,
   "id": "f3d2b093-2a41-4d09-9815-ac75cb2793d1",
   "metadata": {},
   "outputs": [
    {
     "data": {
      "text/plain": [
       "Rank                              0\n",
       "Company                           0\n",
       "Industry                          0\n",
       "Revenue in (USD Million)          0\n",
       "Net Income in (USD Millions)      0\n",
       "Total Assest in (USD Millions)    0\n",
       "Headquarters                      0\n",
       "dtype: int64"
      ]
     },
     "execution_count": 6,
     "metadata": {},
     "output_type": "execute_result"
    }
   ],
   "source": [
    "df.isna().sum()"
   ]
  },
  {
   "cell_type": "markdown",
   "id": "69412571-a688-4e70-b0d6-56b2c84cdbbe",
   "metadata": {},
   "source": [
    "# Checkig Duplicated Values"
   ]
  },
  {
   "cell_type": "code",
   "execution_count": 7,
   "id": "526d51d7-b1e7-400c-9f4b-f5cacf55c7bb",
   "metadata": {},
   "outputs": [
    {
     "data": {
      "text/plain": [
       "0"
      ]
     },
     "execution_count": 7,
     "metadata": {},
     "output_type": "execute_result"
    }
   ],
   "source": [
    "df.duplicated().sum()"
   ]
  },
  {
   "cell_type": "markdown",
   "id": "8ef4a7c9-3fc3-4f23-9742-7b643a38819e",
   "metadata": {},
   "source": [
    "# Rename columns "
   ]
  },
  {
   "cell_type": "code",
   "execution_count": 11,
   "id": "7c3a9f95-fc7a-463b-8107-d78874b3a16b",
   "metadata": {},
   "outputs": [],
   "source": [
    "df.rename(columns={'Revenue in (USD Million)': 'Revenue',\n",
    "    'Net Income in (USD Millions)': 'Net_Income',\n",
    "    'Total Assest in (USD Millions)': 'Total_Assets'\n",
    "}, inplace=True)"
   ]
  },
  {
   "cell_type": "markdown",
   "id": "717a02e5-31a8-41fa-8e1a-513a9a941823",
   "metadata": {},
   "source": [
    "# Checking the dataset sample"
   ]
  },
  {
   "cell_type": "code",
   "execution_count": 12,
   "id": "cd80f2a2-8905-434b-9951-8eb7e3ab1724",
   "metadata": {},
   "outputs": [
    {
     "data": {
      "text/html": [
       "<div>\n",
       "<style scoped>\n",
       "    .dataframe tbody tr th:only-of-type {\n",
       "        vertical-align: middle;\n",
       "    }\n",
       "\n",
       "    .dataframe tbody tr th {\n",
       "        vertical-align: top;\n",
       "    }\n",
       "\n",
       "    .dataframe thead th {\n",
       "        text-align: right;\n",
       "    }\n",
       "</style>\n",
       "<table border=\"1\" class=\"dataframe\">\n",
       "  <thead>\n",
       "    <tr style=\"text-align: right;\">\n",
       "      <th></th>\n",
       "      <th>Rank</th>\n",
       "      <th>Company</th>\n",
       "      <th>Industry</th>\n",
       "      <th>Revenue</th>\n",
       "      <th>Net_Income</th>\n",
       "      <th>Total_Assets</th>\n",
       "      <th>Headquarters</th>\n",
       "    </tr>\n",
       "  </thead>\n",
       "  <tbody>\n",
       "    <tr>\n",
       "      <th>42</th>\n",
       "      <td>43</td>\n",
       "      <td>Morgan Stanley</td>\n",
       "      <td>Investment Services</td>\n",
       "      <td>52047</td>\n",
       "      <td>10996</td>\n",
       "      <td>1115</td>\n",
       "      <td>United States</td>\n",
       "    </tr>\n",
       "  </tbody>\n",
       "</table>\n",
       "</div>"
      ],
      "text/plain": [
       "    Rank         Company             Industry  Revenue  Net_Income  \\\n",
       "42    43  Morgan Stanley  Investment Services    52047       10996   \n",
       "\n",
       "    Total_Assets   Headquarters  \n",
       "42          1115  United States  "
      ]
     },
     "execution_count": 12,
     "metadata": {},
     "output_type": "execute_result"
    }
   ],
   "source": [
    "df.sample()"
   ]
  },
  {
   "cell_type": "markdown",
   "id": "662cc812-e937-48ad-be41-00656c507031",
   "metadata": {},
   "source": [
    "# Top Revenue (10)"
   ]
  },
  {
   "cell_type": "code",
   "execution_count": 15,
   "id": "3da9eb88-9a7a-4df2-9bbc-f9f9cbbe09b6",
   "metadata": {},
   "outputs": [
    {
     "name": "stdout",
     "output_type": "stream",
     "text": [
      "   Rank                     Company  Revenue\n",
      "0     1    Transamerica Corporation   245510\n",
      "1     2     Ping An Insurance Group   191509\n",
      "2     3                        ICBC   182794\n",
      "3     4     China Construction Bank   172000\n",
      "4     5  Agricultural Bank of China   153884\n",
      "5     6        China Life Insurance   144589\n",
      "6     7                     Allianz   136173\n",
      "7     8               Bank of China   134045\n",
      "8     9             JP Morgan Chase   129503\n",
      "9    10                         AXA   128011\n"
     ]
    }
   ],
   "source": [
    "top_revenue = df.nlargest(10, 'Revenue')\n",
    "print(top_revenue[['Rank', 'Company', 'Revenue']])"
   ]
  },
  {
   "cell_type": "markdown",
   "id": "01797fdd-0cf7-481d-87e3-ce3270f1d746",
   "metadata": {},
   "source": [
    "# Top 10 Companies by Net Income "
   ]
  },
  {
   "cell_type": "code",
   "execution_count": 17,
   "id": "0f158925-a42e-49f9-b888-b57a74449d2b",
   "metadata": {},
   "outputs": [
    {
     "name": "stdout",
     "output_type": "stream",
     "text": [
      "    Rank                     Company  Net_Income\n",
      "2      3                        ICBC       45783\n",
      "0      1    Transamerica Corporation       42521\n",
      "3      4     China Construction Bank       39282\n",
      "4      5  Agricultural Bank of China       31293\n",
      "8      9             JP Morgan Chase       29131\n",
      "7      8               Bank of China       27952\n",
      "1      2     Ping An Insurance Group       20738\n",
      "13    14             Bank of America       17894\n",
      "32    33        China Merchants Bank       14107\n",
      "10    11                  Fannie Mae       11805\n"
     ]
    }
   ],
   "source": [
    "top_net_income = df.nlargest(10, 'Net_Income')\n",
    "print(top_net_income[['Rank', 'Company', 'Net_Income']])"
   ]
  },
  {
   "cell_type": "markdown",
   "id": "8f6797cb-3996-4913-85bb-665a601bd025",
   "metadata": {},
   "source": [
    "# Top Companies by assests"
   ]
  },
  {
   "cell_type": "code",
   "execution_count": 19,
   "id": "f94c1bce-6c0b-4539-b320-7b0ba5986f4c",
   "metadata": {},
   "outputs": [
    {
     "name": "stdout",
     "output_type": "stream",
     "text": [
      "    Rank                         Company  Total_Assets\n",
      "2      3                            ICBC          5110\n",
      "3      4         China Construction Bank          4311\n",
      "4      5      Agricultural Bank of China          4169\n",
      "10    11                      Fannie Mae          3985\n",
      "7      8                   Bank of China          3739\n",
      "8      9                 JP Morgan Chase          3386\n",
      "36    37  Mitsubishi UFJ Financial Group          3250\n",
      "17    18                     BNP Paribas          3045\n",
      "18    19                            HSBC          2984\n",
      "13    14                 Bank of America          2819\n"
     ]
    }
   ],
   "source": [
    "top_assests = df.nlargest(10, 'Total_Assets')\n",
    "print(top_assests[['Rank' , 'Company', 'Total_Assets']])"
   ]
  },
  {
   "cell_type": "markdown",
   "id": "6b56513a-2746-40cb-ab25-8a5bec1d7a4f",
   "metadata": {},
   "source": [
    "# Industry Wise revenue"
   ]
  },
  {
   "cell_type": "code",
   "execution_count": 21,
   "id": "5b18adf6-a624-4ac0-845e-7fc40d0f0f81",
   "metadata": {},
   "outputs": [
    {
     "data": {
      "text/plain": [
       "Industry\n",
       "Insurance              1870971\n",
       "Banking                1760174\n",
       "Investment Services     395101\n",
       "Conglomerate            245510\n",
       "Name: Revenue, dtype: int64"
      ]
     },
     "execution_count": 21,
     "metadata": {},
     "output_type": "execute_result"
    }
   ],
   "source": [
    "df.groupby('Industry')['Revenue'].sum().sort_values(ascending=False)"
   ]
  },
  {
   "cell_type": "markdown",
   "id": "5dc63c3d-2981-47ff-a047-148557071ea0",
   "metadata": {},
   "source": [
    "# Count Industry Wise Companies"
   ]
  },
  {
   "cell_type": "code",
   "execution_count": 23,
   "id": "0b42a06f-a3bf-4316-bd40-87ac69a3c8e0",
   "metadata": {},
   "outputs": [
    {
     "data": {
      "text/plain": [
       "Industry\n",
       "Insurance              23\n",
       "Banking                20\n",
       "Investment Services     6\n",
       "Conglomerate            1\n",
       "Name: count, dtype: int64"
      ]
     },
     "execution_count": 23,
     "metadata": {},
     "output_type": "execute_result"
    }
   ],
   "source": [
    "df['Industry'].value_counts()"
   ]
  },
  {
   "cell_type": "markdown",
   "id": "eb3c5c63-78eb-45b8-aff9-6fa217833bb6",
   "metadata": {},
   "source": [
    "# Count Headquarters of major companies"
   ]
  },
  {
   "cell_type": "code",
   "execution_count": 24,
   "id": "385ac1a0-4d60-428a-a514-08592cd5af7a",
   "metadata": {},
   "outputs": [
    {
     "data": {
      "text/plain": [
       "Headquarters\n",
       "China             14\n",
       "United States     13\n",
       "United Kingdom     5\n",
       "Japan              4\n",
       "Germany            3\n",
       "France             3\n",
       "Canada             3\n",
       "India              2\n",
       "Italy              1\n",
       "Spain              1\n",
       "Switzerland        1\n",
       "Name: count, dtype: int64"
      ]
     },
     "execution_count": 24,
     "metadata": {},
     "output_type": "execute_result"
    }
   ],
   "source": [
    "df['Headquarters'].value_count"
   ]
  },
  {
   "cell_type": "markdown",
   "id": "ad1d6694-5d08-421b-a925-4845d48c1e7d",
   "metadata": {},
   "source": [
    "# Revenue by Countries"
   ]
  },
  {
   "cell_type": "code",
   "execution_count": 56,
   "id": "f13aa085-3e6e-4892-9523-042ba32f5cf3",
   "metadata": {},
   "outputs": [
    {
     "data": {
      "text/plain": [
       "Headquarters\n",
       "China             1457710\n",
       "United States     1174030\n",
       "France             292601\n",
       "United Kingdom     276897\n",
       "Japan              259179\n",
       "Germany            257035\n",
       "Canada             169775\n",
       "India              154770\n",
       "Italy               97128\n",
       "Spain               73630\n",
       "Switzerland         59001\n",
       "Name: Revenue, dtype: int64"
      ]
     },
     "execution_count": 56,
     "metadata": {},
     "output_type": "execute_result"
    }
   ],
   "source": [
    "df.groupby('Headquarters')['Revenue'].sum().sort_values(ascending=False)"
   ]
  },
  {
   "cell_type": "code",
   "execution_count": 27,
   "id": "21334a44-3941-4d8e-bd21-22d2e8810b26",
   "metadata": {},
   "outputs": [],
   "source": [
    "import matplotlib.pyplot as plt"
   ]
  },
  {
   "cell_type": "markdown",
   "id": "d966cb09-1e4f-4830-8cce-1b24607fb2af",
   "metadata": {},
   "source": [
    "# Distribution of Revenue"
   ]
  },
  {
   "cell_type": "code",
   "execution_count": 57,
   "id": "feda52e4-6de0-4f84-9950-c9c3898f5f30",
   "metadata": {},
   "outputs": [
    {
     "data": {
      "image/png": "[encoded data removed]",
      "text/plain": [
       "<Figure size 800x600 with 1 Axes>"
      ]
     },
     "metadata": {},
     "output_type": "display_data"
    }
   ],
   "source": [
    "plt.figure(figsize=(8, 6))\n",
    "plt.hist(df['Revenue'], bins = 15, color='teal', edgecolor='black')\n",
    "plt.title('Distribution of Revenue', fontsize=14)\n",
    "plt.xlabel('Revenue', fontsize=12)\n",
    "plt.ylabel('Frequency', fontsize=12)\n",
    "plt.grid(axis='y', linestyle='--', alpha=0.7)\n",
    "plt.show()"
   ]
  },
  {
   "cell_type": "code",
   "execution_count": 58,
   "id": "3067401c-e040-4f95-8ca8-63465ade4ea5",
   "metadata": {},
   "outputs": [
    {
     "data": {
      "text/plain": [
       "<function matplotlib.pyplot.show(close=None, block=None)>"
      ]
     },
     "execution_count": 58,
     "metadata": {},
     "output_type": "execute_result"
    },
    {
     "data": {
      "image/png": "[encoded data removed]",
      "text/plain": [
       "<Figure size 800x600 with 1 Axes>"
      ]
     },
     "metadata": {},
     "output_type": "display_data"
    }
   ],
   "source": [
    "plt.figure(figsize= (8, 6))\n",
    "plt.boxplot(df['Revenue'], vert=False, patch_artist=True, boxprops=dict(facecolor='teal'))\n",
    "plt.title('Revenue Boxplot', fontsize=16)\n",
    "plt.xlabel('Revenue', fontsize=16)\n",
    "plt.show"
   ]
  },
  {
   "cell_type": "markdown",
   "id": "c1d49084-94d9-4148-b5a1-bfc4b7149e0a",
   "metadata": {},
   "source": [
    "# Top 10 Comapnies by Revenue"
   ]
  },
  {
   "cell_type": "code",
   "execution_count": 38,
   "id": "5f8fb336-7db9-451c-b82f-c3750ef65c48",
   "metadata": {},
   "outputs": [
    {
     "data": {
      "image/png": "[encoded data removed]",
      "text/plain": [
       "<Figure size 800x600 with 1 Axes>"
      ]
     },
     "metadata": {},
     "output_type": "display_data"
    }
   ],
   "source": [
    "top_revenue = df.nlargest(10, 'Revenue')\n",
    "\n",
    "plt.figure(figsize=(8, 6))\n",
    "plt.barh(top_revenue['Company'], top_revenue['Revenue'], color='teal')\n",
    "plt.title('Top 10 Companies by Revenue', fontsize=16)\n",
    "plt.xlabel('Revenue (USD Million)', fontsize=12)\n",
    "plt.ylabel('Company', fontsize=12)\n",
    "plt.gca().invert_yaxis()  # To display the highest revenue at the top\n",
    "plt.show()"
   ]
  },
  {
   "cell_type": "code",
   "execution_count": 45,
   "id": "827e64b3-9184-4375-8b34-44110fcf70b9",
   "metadata": {},
   "outputs": [
    {
     "data": {
      "image/png": "[encoded data removed]",
      "text/plain": [
       "<Figure size 800x600 with 1 Axes>"
      ]
     },
     "metadata": {},
     "output_type": "display_data"
    }
   ],
   "source": [
    "revenue_by_industry = df.groupby('Industry')['Revenue'].sum().sort_values()\n",
    "\n",
    "plt.figure(figsize=(8, 6))\n",
    "revenue_by_industry.plot(kind='barh', color='teal')\n",
    "plt.title('Total Revenue by Industry', fontsize=14)\n",
    "plt.xlabel('Total Revenue', fontsize=12)\n",
    "plt.ylabel('Industry', fontsize=12)\n",
    "plt.show()"
   ]
  },
  {
   "cell_type": "markdown",
   "id": "3809c194-4a78-42d2-93c7-5db51870f0d7",
   "metadata": {},
   "source": [
    "# Outlier Detection Using the Interquartile Range"
   ]
  },
  {
   "cell_type": "code",
   "execution_count": 53,
   "id": "bfd6a655-62ce-4a56-8cb9-e7e3e3f21f1d",
   "metadata": {},
   "outputs": [
    {
     "name": "stdout",
     "output_type": "stream",
     "text": [
      "   Rank                   Company      Industry  Revenue  Net_Income  \\\n",
      "0     1  Transamerica Corporation  Conglomerate   245510       42521   \n",
      "1     2   Ping An Insurance Group     Insurance   191509       20738   \n",
      "2     3                      ICBC       Banking   182794       45783   \n",
      "3     4   China Construction Bank       Banking   172000       39282   \n",
      "\n",
      "   Total_Assets   Headquarters  \n",
      "0           873  United States  \n",
      "1          1460          China  \n",
      "2          5110          China  \n",
      "3          4311          China  \n"
     ]
    }
   ],
   "source": [
    "Q1 = df['Revenue'].quantile(0.25)\n",
    "Q3 = df['Revenue'].quantile(0.75)\n",
    "\n",
    "IQR = Q3 - Q1\n",
    "\n",
    "lower_bound = Q1 - 1.5 * IQR\n",
    "upper_bound = Q3 + 1.5 * IQR\n",
    "\n",
    "outliers = df[(df['Revenue'] < lower_bound) | (df['Revenue'] > upper_bound)]\n",
    "\n",
    "print(outliers)"
   ]
  }
 ],
 "metadata": {
  "kernelspec": {
   "display_name": "Python 3 (ipykernel)",
   "language": "python",
   "name": "python3"
  },
  "language_info": {
   "codemirror_mode": {
    "name": "ipython",
    "version": 3
   },
   "file_extension": ".py",
   "mimetype": "text/x-python",
   "name": "python",
   "nbconvert_exporter": "python",
   "pygments_lexer": "ipython3",
   "version": "3.12.7"
  }
 },
 "nbformat": 4,
 "nbformat_minor": 5
}
